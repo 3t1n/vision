{
 "cells": [
  {
   "cell_type": "code",
   "execution_count": 1,
   "metadata": {},
   "outputs": [],
   "source": [
    "%matplotlib inline"
   ]
  },
  {
   "cell_type": "markdown",
   "metadata": {},
   "source": [
    "# Canny Edge Detector\n",
    "\n",
    "\n",
    "The Canny edge detector is an edge detection operator that uses a multi-stage algorithm to detect a wide range of edges in images. It was developed by John F. Canny in 1986. Canny also produced a computational theory of edge detection explaining why the technique works. \n",
    "\n",
    "The Process of Canny edge detection algorithm can be broken down to 5 different steps:\n",
    "\n",
    "    Apply Gaussian filter to smooth the image in order to remove the noise\n",
    "    Find the intensity gradients of the image\n",
    "    Apply non-maximum suppression to get rid of spurious response to edge detection\n",
    "    Apply double threshold to determine potential edges\n",
    "    Track edge by hysteresis: Finalize the detection of edges by suppressing all the other edges that are weak and not connected to strong edges.\n",
    "    \n",
    "Source: https://en.wikipedia.org/wiki/Canny_edge_detector\n",
    "\n",
    "References\n",
    "----------\n",
    "\n",
    "1. Canny, J., A Computational Approach To Edge Detection, IEEE Transactions on Pattern Analysis and Machine Intelligence, 8(6):679–698, 1986.\n",
    "\n",
    "2. R. Deriche, Using Canny's criteria to derive a recursively implemented optimal edge detector, Int. J. Computer Vision, Vol. 1, pp. 167–187, April 1987.\n",
    "\n",
    "\n"
   ]
  },
  {
   "cell_type": "markdown",
   "metadata": {},
   "source": [
    "### Data Sources\n",
    "\n",
    "We will be using the ***scikit data module*** to provide us with an image data source. Look here to learn what it is: http://scikit-image.org/docs/dev/api/skimage.data.html It provides the following images:\n",
    "\n",
    " - skimage.data.astronaut() - Color image of the astronaut Eileen Collins.\n",
    "\n",
    " - skimage.data.camera() - Gray-level “camera” image.\n",
    "\n",
    " - skimage.data.checkerboard() - Checkerboard image.\n",
    "\n",
    " - skimage.data.chelsea() - Chelsea the cat.\n",
    "\n",
    " - skimage.data.clock() - Motion blurred clock.\n",
    "\n",
    " - skimage.data.coffee() - Coffee cup.\n",
    "\n",
    " - skimage.data.coins() - Greek coins from Pompeii.\n",
    "\n",
    " - skimage.data.horse() - Black and white silhouette of a horse.\n",
    "\n",
    " - skimage.data.hubble_deep_field() - Hubble eXtreme Deep Field.\n",
    "\n",
    " - skimage.data.immunohistochemistry() - Immunohistochemical (IHC) staining with hematoxylin counterstaining.\n",
    "\n",
    " - skimage.data.lbp_frontal_face_cascade_filename() - Returns the path to the XML file containing information about the weak classifiers of a cascade classifier trained using LBP features.\n",
    "\n",
    " - skimage.data.lfw_subset() - Subset of data from the LFW dataset.\n",
    "\n",
    " - skimage.data.logo() - Scikit-image logo, a RGBA image.\n",
    "\n",
    " - skimage.data.microaneurysms() - Gray-level “microaneurysms” image.\n",
    "\n",
    " - skimage.data.moon() - Surface of the moon.\n",
    "\n",
    " - skimage.data.page() - Scanned page.\n",
    "\n",
    " - skimage.data.text() - Gray-level “text” image used for corner detection.\n",
    "\n",
    " - skimage.data.retina() - Human retina.\n",
    "\n",
    " - skimage.data.rocket() - Launch photo of DSCOVR on Falcon 9 by SpaceX.\n",
    "\n",
    " - skimage.data.stereo_motorcycle() - Rectified stereo image pair with ground-truth disparities."
   ]
  },
  {
   "cell_type": "code",
   "execution_count": 28,
   "metadata": {},
   "outputs": [],
   "source": [
    "import skimage\n",
    "\n",
    "sources = [\n",
    "     'skimage.data.astronaut()',\n",
    "     'skimage.data.camera()',\n",
    "     'skimage.data.checkerboard()',\n",
    "     'skimage.data.chelsea()',\n",
    "     'skimage.data.clock()',\n",
    "     'skimage.data.coffee()',\n",
    "     'skimage.data.coins()',\n",
    "     'skimage.data.horse()',\n",
    "     'skimage.data.hubble_deep_field()',\n",
    "     'skimage.data.immunohistochemistry()',\n",
    "     'skimage.data.lbp_frontal_face_cascade_filename()',\n",
    "     'skimage.data.lfw_subset()',\n",
    "     'skimage.data.logo()',\n",
    "     'skimage.data.microaneurysms()',\n",
    "     'skimage.data.moon()',\n",
    "     'skimage.data.page()',\n",
    "     'skimage.data.text()',\n",
    "     'skimage.data.retina()',\n",
    "     'skimage.data.rocket()',\n",
    "     'skimage.data.stereo_motorcycle()']"
   ]
  },
  {
   "cell_type": "markdown",
   "metadata": {},
   "source": [
    "## SciKit\n",
    "\n",
    "The Canny Edge Detector we are using here is this one: http://scikit-image.org/docs/dev/auto_examples/edges/plot_canny.html Function documentation is here: https://github.com/scikit-image/scikit-image/blob/master/skimage/feature/_canny.py"
   ]
  },
  {
   "cell_type": "code",
   "execution_count": 32,
   "metadata": {},
   "outputs": [
    {
     "data": {
      "application/vnd.jupyter.widget-view+json": {
       "model_id": "d8aea8bc05744eedbeb6757b1e74507d",
       "version_major": 2,
       "version_minor": 0
      },
      "text/plain": [
       "interactive(children=(Dropdown(description='source', options=('skimage.data.astronaut()', 'skimage.data.camera…"
      ]
     },
     "metadata": {},
     "output_type": "display_data"
    }
   ],
   "source": [
    "import numpy as np\n",
    "from ipywidgets import interact, interactive, fixed, interact_manual\n",
    "import ipywidgets as widgets\n",
    "import cv2\n",
    "\n",
    "from skimage.transform import (hough_line, hough_line_peaks,\n",
    "                               probabilistic_hough_line)\n",
    "from skimage.feature import canny\n",
    "from skimage import data\n",
    "\n",
    "import matplotlib.pyplot as plt\n",
    "from matplotlib import cm\n",
    "\n",
    "\n",
    "def cannySciKit(source, sigma, low_threshold, high_threshold, use_quantiles):\n",
    "    # Line finding using the Probabilistic Hough Transform\n",
    "    image = eval(source)\n",
    "    \n",
    "     # If the image is colored, make a grayscale copy\n",
    "    if image.shape[-1] == 3:           \n",
    "        b,g,r = cv2.split(image)       # get b,g,r\n",
    "        rgb_img = cv2.merge([r,g,b])     # switch it to rgb\n",
    "        gray_img = cv2.cvtColor(image, cv2.COLOR_BGR2GRAY)\n",
    "    else:\n",
    "        gray_img = image\n",
    "\n",
    "    edges = canny(gray_img, sigma=sigma, low_threshold=low_threshold, high_threshold=high_threshold, use_quantiles=use_quantiles)\n",
    "\n",
    "    # Generating figure 2\n",
    "    fig, axes = plt.subplots(1, 2, figsize=(15, 7), sharex=True, sharey=True)\n",
    "    ax = axes.ravel()\n",
    "\n",
    "    ax[0].imshow(image, cmap=cm.gray)\n",
    "    ax[0].set_title('Input image')\n",
    "\n",
    "    ax[1].imshow(edges, cmap=cm.gray)\n",
    "    ax[1].set_title('Canny edges')\n",
    "\n",
    "    for a in ax:\n",
    "        a.set_axis_off()\n",
    "\n",
    "    plt.tight_layout()\n",
    "    plt.show()\n",
    "    \n",
    "interact_manual(cannySciKit, source=sources, sigma=3.0, low_threshold=1, high_threshold=25, use_quantiles=False)\n",
    "None"
   ]
  },
  {
   "cell_type": "markdown",
   "metadata": {},
   "source": [
    "## OpenCV"
   ]
  },
  {
   "cell_type": "code",
   "execution_count": 37,
   "metadata": {},
   "outputs": [
    {
     "data": {
      "application/vnd.jupyter.widget-view+json": {
       "model_id": "74ff2955ef2b42a2923fe18c1a4d3e35",
       "version_major": 2,
       "version_minor": 0
      },
      "text/plain": [
       "interactive(children=(Dropdown(description='source', options=('skimage.data.astronaut()', 'skimage.data.camera…"
      ]
     },
     "metadata": {},
     "output_type": "display_data"
    }
   ],
   "source": [
    "from skimage import data\n",
    "from ipywidgets import interact, interactive, fixed, interact_manual\n",
    "import ipywidgets as widgets\n",
    "\n",
    "import cv2\n",
    "import numpy as np\n",
    "import matplotlib\n",
    "from matplotlib import pyplot as plt\n",
    "\n",
    "matplotlib.rcParams['figure.figsize'] = [15,7]\n",
    "\n",
    "\n",
    "def cannyOpenCV(source,threshold1,threshold2,apertureSize,L2gradient):\n",
    "    image = eval(source)\n",
    "\n",
    "    # If the image is colored, make a grayscale copy\n",
    "    if image.shape[-1] == 3:           \n",
    "        b,g,r = cv2.split(image)       # get b,g,r\n",
    "        rgb_img = cv2.merge([r,g,b])     # switch it to rgb\n",
    "        gray_img = cv2.cvtColor(image, cv2.COLOR_BGR2GRAY)\n",
    "    else:\n",
    "        gray_img = image\n",
    "\n",
    "    # Blur the image \n",
    "    img = cv2.medianBlur(gray_img, 5)\n",
    "    # Create a grayscale version that allows colored painting on it\n",
    "    cimg = cv2.cvtColor(img,cv2.COLOR_GRAY2BGR)\n",
    "    #gray = cv2.cvtColor(img,cv2.COLOR_BGR2GRAY)\n",
    "\n",
    "    # Create an edge image with the OpenCV canny implementation\n",
    "    edges = cv2.Canny(gray_img, threshold1=threshold1, threshold2=threshold2, apertureSize=apertureSize, L2gradient=L2gradient)\n",
    "    # apertureSize is the aperture size for the Sobel edge detection operator\n",
    "\n",
    "    # Write the result on the disk\n",
    "    #cv2.imwrite('cannyEdges3.jpg',edges)\n",
    "    \n",
    "    # Create a row of three plots to show the image, edges and result\n",
    "    plt.subplot(121),plt.imshow(image)\n",
    "    plt.title('Input Image'), plt.xticks([]), plt.yticks([])\n",
    "    plt.subplot(122),plt.imshow(edges)\n",
    "    plt.title('Edges Image'), plt.xticks([]), plt.yticks([])\n",
    "    plt.show()\n",
    "    \n",
    "interact_manual(cannyOpenCV, source=sources, threshold1=100,threshold2=500,apertureSize=3,L2gradient=True)\n",
    "None"
   ]
  },
  {
   "cell_type": "code",
   "execution_count": null,
   "metadata": {},
   "outputs": [],
   "source": []
  }
 ],
 "metadata": {
  "gist": {
   "data": {
    "description": "plot_line_hough_transform.ipynb",
    "public": false
   },
   "id": ""
  },
  "kernelspec": {
   "display_name": "Python 3",
   "language": "python",
   "name": "python3"
  },
  "language_info": {
   "codemirror_mode": {
    "name": "ipython",
    "version": 3
   },
   "file_extension": ".py",
   "mimetype": "text/x-python",
   "name": "python",
   "nbconvert_exporter": "python",
   "pygments_lexer": "ipython3",
   "version": "3.7.1"
  },
  "varInspector": {
   "cols": {
    "lenName": "20",
    "lenType": "20",
    "lenVar": "60"
   },
   "kernels_config": {
    "python": {
     "delete_cmd_postfix": "",
     "delete_cmd_prefix": "del ",
     "library": "var_list.py",
     "varRefreshCmd": "print(var_dic_list())"
    },
    "r": {
     "delete_cmd_postfix": ") ",
     "delete_cmd_prefix": "rm(",
     "library": "var_list.r",
     "varRefreshCmd": "cat(var_dic_list()) "
    }
   },
   "position": {
    "height": "321.85px",
    "left": "1009px",
    "right": "174px",
    "top": "179px",
    "width": "694px"
   },
   "types_to_exclude": [
    "module",
    "function",
    "builtin_function_or_method",
    "instance",
    "_Feature"
   ],
   "window_display": true
  }
 },
 "nbformat": 4,
 "nbformat_minor": 1
}
